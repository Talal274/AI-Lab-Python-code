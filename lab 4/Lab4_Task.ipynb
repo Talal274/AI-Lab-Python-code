{
 "cells": [
  {
   "cell_type": "code",
   "execution_count": 1,
   "id": "dad10ba7",
   "metadata": {},
   "outputs": [
    {
     "name": "stdout",
     "output_type": "stream",
     "text": [
      "Here is the task of lab of AI IN Python \n"
     ]
    }
   ],
   "source": [
    "print(\"Here is the task of lab of AI IN Python \")"
   ]
  },
  {
   "cell_type": "code",
   "execution_count": 3,
   "id": "05fe7674",
   "metadata": {},
   "outputs": [
    {
     "name": "stdout",
     "output_type": "stream",
     "text": [
      "Name: Talal Atta\n",
      "Age: 18\n",
      "Designation: Cyber Security\n",
      "Salary: 150000\n"
     ]
    }
   ],
   "source": [
    "\n",
    "class Person:\n",
    "    def __init__(self, name, age):\n",
    "        self.name = name\n",
    "        self.age = age\n",
    "class Job:\n",
    "    def __init__(self, designation, salary):\n",
    "        self.designation = designation\n",
    "        self.salary = salary\n",
    "class Employee(Person, Job):\n",
    "    def __init__(self, name, age, designation, salary):\n",
    "        Person.__init__(self, name, age)\n",
    "        Job.__init__(self, designation, salary)\n",
    "\n",
    "    def display_details(self):\n",
    "        print(\"Name:\", self.name)\n",
    "        print(\"Age:\", self.age)\n",
    "        print(\"Designation:\", self.designation)\n",
    "        print(\"Salary:\", self.salary)\n",
    "\n",
    "employee = Employee(\"Talal Atta\", 18, \"Cyber Security\", 150000)\n",
    "employee.display_details()\n"
   ]
  },
  {
   "cell_type": "code",
   "execution_count": 9,
   "id": "9d25a408",
   "metadata": {},
   "outputs": [
    {
     "name": "stdout",
     "output_type": "stream",
     "text": [
      "Area of the circle: 12.5664\n",
      "Perimeter of the circle: 12.5664\n"
     ]
    }
   ],
   "source": [
    "\n",
    "class Circle:\n",
    "    def __init__(self, r):\n",
    "        self.r = r\n",
    "\n",
    "    def area(self):\n",
    "        return 3.1416 * self.r * self.r\n",
    "\n",
    "    def perimeter(self):\n",
    "        return 2 * 3.1416 * self.r\n",
    "\n",
    "c = Circle(2)\n",
    "print(\"Area of the circle:\", c.area())\n",
    "print(\"Perimeter of the circle:\", c.perimeter())\n"
   ]
  },
  {
   "cell_type": "code",
   "execution_count": 8,
   "id": "68a48365",
   "metadata": {},
   "outputs": [
    {
     "name": "stdout",
     "output_type": "stream",
     "text": [
      "Result: 0.008\n"
     ]
    }
   ],
   "source": [
    "\n",
    "def __init__(self, x, n):\n",
    "        self.x = x\n",
    "        self.n = n\n",
    "\n",
    "def compute_power(self):\n",
    "        return self.x ** self.n   \n",
    "\n",
    "p =  Power(5, -3)\n",
    "print(\"Result:\", p.compute_power())\n"
   ]
  },
  {
   "cell_type": "code",
   "execution_count": 11,
   "id": "6af7c333",
   "metadata": {},
   "outputs": [
    {
     "name": "stdout",
     "output_type": "stream",
     "text": [
      "Item: No\n",
      "Description: Music file\n",
      "Price: 200\n",
      "Playing MP3 by Talal\n",
      "Downloading MP3...\n",
      "\n",
      "Item: A hacker\n",
      "Description: Action DVD\n",
      "Price: 500\n",
      "Playing DVD trailer...\n",
      "\n",
      "Item: Artificial Intelligence\n",
      "Description: Programming\n",
      "Price: 400\n",
      "Previewing book content...\n"
     ]
    }
   ],
   "source": [
    "class Item:  # Parent class\n",
    "    def __init__(self, name, desc, price):\n",
    "        self.name = name\n",
    "        self.desc = desc\n",
    "        self.price = price\n",
    "\n",
    "    def viewFullDescription(self):\n",
    "        print(\"Item:\", self.name)\n",
    "        print(\"Description:\", self.desc)\n",
    "        print(\"Price:\", self.price)\n",
    "\n",
    "    def addToShoppingBasket(self):\n",
    "        print(self.name, \"added to basket\")\n",
    "\n",
    "    def removeFromShoppingBasket(self):\n",
    "        print(self.name, \"removed from basket\")\n",
    "\n",
    "\n",
    "class MP3(Item):  # Child class\n",
    "    def __init__(self, name, desc, price, artist, duration):\n",
    "        super().__init__(name, desc, price)\n",
    "        self.artist = artist\n",
    "        self.duration = duration\n",
    "\n",
    "    def play(self):\n",
    "        print(\"Playing MP3 by\", self.artist)\n",
    "\n",
    "    def download(self):\n",
    "        print(\"Downloading MP3...\")\n",
    "\n",
    "\n",
    "class DVD(Item):  # Child class\n",
    "    def __init__(self, name, desc, price, certificate, duration, actors):\n",
    "        super().__init__(name, desc, price)\n",
    "        self.certificate = certificate\n",
    "        self.duration = duration\n",
    "        self.actors = actors\n",
    "\n",
    "    def viewTrailer(self):\n",
    "        print(\"Playing DVD trailer...\")\n",
    "\n",
    "\n",
    "class Book(Item):  # Child class\n",
    "    def __init__(self, name, desc, price, author, pages, genre):\n",
    "        super().__init__(name, desc, price)\n",
    "        self.author = author\n",
    "        self.pages = pages\n",
    "        self.genre = genre\n",
    "\n",
    "    def previewContent(self):\n",
    "        print(\"Previewing book content...\")\n",
    "\n",
    "\n",
    "# Creating Objects\n",
    "mp3 = MP3(\"No\", \"Music file\", 200, \"Talal\", \"4:45\")\n",
    "mp3.viewFullDescription()\n",
    "mp3.play()\n",
    "mp3.download()\n",
    "\n",
    "print()\n",
    "\n",
    "dvd = DVD(\"A hacker\", \"Action DVD\", 500, \"pg-32\", \"2 hours\", \"Talal, Atta\")\n",
    "dvd.viewFullDescription()\n",
    "dvd.viewTrailer()\n",
    "\n",
    "print()\n",
    "\n",
    "book = Book(\"Artificial Intelligence\", \"Programming\", 400, \"Talal Atta\", 300, \"Education\")\n",
    "book.viewFullDescription()\n",
    "book.previewContent()\n"
   ]
  }
 ],
 "metadata": {
  "kernelspec": {
   "display_name": "Python 3",
   "language": "python",
   "name": "python3"
  },
  "language_info": {
   "codemirror_mode": {
    "name": "ipython",
    "version": 3
   },
   "file_extension": ".py",
   "mimetype": "text/x-python",
   "name": "python",
   "nbconvert_exporter": "python",
   "pygments_lexer": "ipython3",
   "version": "3.14.0"
  }
 },
 "nbformat": 4,
 "nbformat_minor": 5
}
