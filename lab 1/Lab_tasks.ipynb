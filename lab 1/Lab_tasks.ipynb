{
 "cells": [
  {
   "cell_type": "code",
   "execution_count": null,
   "id": "df73ef83",
   "metadata": {},
   "outputs": [
    {
     "name": "stdout",
     "output_type": "stream",
     "text": [
      "mUltiplication table of 8 is:\n",
      "8*1=8\n",
      "8*2=16\n",
      "8*3=24\n",
      "8*4=32\n",
      "8*5=40\n",
      "8*6=48\n",
      "8*7=56\n",
      "8*8=64\n",
      "8*9=72\n",
      "8*10=80\n"
     ]
    }
   ],
   "source": [
    "\n",
    "num = int(input(\"Enter a number:\"))\n",
    "print(f\"mUltiplication table of {num} is:\")\n",
    "for i in range(1,11):\n",
    "    print(f\"{num}*{i}={num*i}\")\n",
    "    "
   ]
  },
  {
   "cell_type": "code",
   "execution_count": null,
   "id": "73b7607d",
   "metadata": {},
   "outputs": [
    {
     "name": "stdout",
     "output_type": "stream",
     "text": [
      "2 is a prime number\n"
     ]
    }
   ],
   "source": [
    "num = int(input(\"Enter a nuber to check if it is prime or not:\"))\n",
    "if num > 1:\n",
    "    for i in range(2,num):\n",
    "        if (num % i) == 0:\n",
    "            print(f\"{num} is not a prime number\")\n",
    "            break\n",
    "        else:\n",
    "            print(f\"{num} is a prime number\")\n",
    "            break\n",
    "    else:\n",
    "        print(f\"{num} is a prime number\")\n",
    "        "
   ]
  },
  {
   "cell_type": "code",
   "execution_count": null,
   "id": "c566971e",
   "metadata": {},
   "outputs": [
    {
     "name": "stdout",
     "output_type": "stream",
     "text": [
      "number from 1 to 1o:\n",
      "1\n",
      "Even numbers between 1 and 20:\n"
     ]
    }
   ],
   "source": [
    "print(\"number from 1 to 1o:\")\n",
    "i=1\n",
    "while i<+10:\n",
    "    print(i)\n",
    "    i+=1\n",
    "    print(\"Even numbers between 1 and 20:\")\n",
    "    i=1\n",
    "    while i<=20:\n",
    "        if i%2==0:\n",
    "            print(i)\n",
    "            i+=1"
   ]
  },
  {
   "cell_type": "markdown",
   "id": "1d7ae447",
   "metadata": {},
   "source": []
  },
  {
   "cell_type": "code",
   "execution_count": null,
   "id": "b34edc89",
   "metadata": {},
   "outputs": [],
   "source": [
    "num = int(input(\"Enter a number to check if it is harshad or not:\"))\n",
    "sum = 0\n",
    "while num > 0:\n",
    "    digit = num % 10\n",
    "    sum += digit\n",
    "    num //=10\n",
    "    if num % sum == 0:\n",
    "        print(f\"{num} is a harashad number\")"
   ]
  },
  {
   "cell_type": "markdown",
   "id": "18527f62",
   "metadata": {},
   "source": []
  },
  {
   "cell_type": "markdown",
   "id": "ba493114",
   "metadata": {},
   "source": []
  },
  {
   "cell_type": "code",
   "execution_count": null,
   "id": "44590152",
   "metadata": {},
   "outputs": [],
   "source": []
  },
  {
   "cell_type": "code",
   "execution_count": null,
   "id": "83448707",
   "metadata": {},
   "outputs": [],
   "source": [
    "num = int(input(\"Enter a number to check if it is harshad or not:\"))\n",
    "sum = 0\n",
    "while num > 0:\n",
    "    digit = num % 10\n",
    "    sum += digit\n",
    "    num //=10\n",
    "    if num % sum == 0:\n",
    "        print(f\"{num} is a harashad number\")\n",
    "    else:\n",
    "        print(f\"{num} is not a harashad number\")"
   ]
  },
  {
   "cell_type": "code",
   "execution_count": null,
   "id": "68758607",
   "metadata": {},
   "outputs": [],
   "source": []
  }
 ],
 "metadata": {
  "kernelspec": {
   "display_name": "Python 3",
   "language": "python",
   "name": "python3"
  },
  "language_info": {
   "codemirror_mode": {
    "name": "ipython",
    "version": 3
   },
   "file_extension": ".py",
   "mimetype": "text/x-python",
   "name": "python",
   "nbconvert_exporter": "python",
   "pygments_lexer": "ipython3",
   "version": "3.14.0"
  }
 },
 "nbformat": 4,
 "nbformat_minor": 5
}
