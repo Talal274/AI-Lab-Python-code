{
 "cells": [
  {
   "cell_type": "code",
   "execution_count": null,
   "id": "6d287280",
   "metadata": {},
   "outputs": [
    {
     "name": "stdout",
     "output_type": "stream",
     "text": [
      "5040\n"
     ]
    }
   ],
   "source": [
    "def factorial(n):\n",
    "    if n == 0 or n == 1:\n",
    "        return 1\n",
    "    else:\n",
    "        return n * factorial(n - 1)\n",
    "print(factorial(7))  \n",
    "   \n"
   ]
  },
  {
   "cell_type": "code",
   "execution_count": null,
   "id": "d946dad8",
   "metadata": {},
   "outputs": [
    {
     "name": "stdout",
     "output_type": "stream",
     "text": [
      "[1, 2, 3, 4, 5]\n"
     ]
    }
   ],
   "source": [
    "#python function take a list and return a new list with the unique elements of the first list\n",
    "\n",
    "def unique_list(lst):\n",
    "    return list(set(lst))\n",
    "print(unique_list([1, 2, 2, 3, 4, 4, 5]))  "
   ]
  },
  {
   "cell_type": "code",
   "execution_count": 5,
   "id": "e94ebe0f",
   "metadata": {},
   "outputs": [
    {
     "name": "stdout",
     "output_type": "stream",
     "text": [
      "Even numbers: [2, 4, 6, 8, 10]\n",
      "Sum of even numbers: 30\n",
      "Product of even numbers: 3840\n"
     ]
    }
   ],
   "source": [
    "#python function to show firt 'n' even numbers and then return the sum and product that even numbers outside the function\n",
    "def even_numbers(n):\n",
    "    even_nums = [i for i in range(2, n * 2 + 1, 2)]\n",
    "    print(\"Even numbers:\", even_nums)\n",
    "    return sum(even_nums), prod(even_nums)\n",
    "from math import prod\n",
    "sum_even, prod_even = even_numbers(5)\n",
    "print(\"Sum of even numbers:\", sum_even)\n",
    "print(\"Product of even numbers:\", prod_even)    "
   ]
  },
  {
   "cell_type": "code",
   "execution_count": 2,
   "id": "621e6c62",
   "metadata": {},
   "outputs": [
    {
     "name": "stdout",
     "output_type": "stream",
     "text": [
      "True\n"
     ]
    }
   ],
   "source": [
    "#PYTHON PROGRAM TO MATCH TWO STRING USING FUNCTION\n",
    "def match_strings(str1, str2):\n",
    "    return str1 == str2\n",
    "a = match_strings(\"hello\", \"hello\")\n",
    "print(a)\n"
   ]
  },
  {
   "cell_type": "code",
   "execution_count": 5,
   "id": "d9714063",
   "metadata": {},
   "outputs": [
    {
     "name": "stdout",
     "output_type": "stream",
     "text": [
      "Login successful\n"
     ]
    }
   ],
   "source": [
    "#PYTHON PROGRAM TO NAME USER LOGIN SYSTEM USING FUNCTION\n",
    "def login_system(username, password):\n",
    "    st_username = \"Talal\"\n",
    "    st_password = \"1234\"\n",
    "    if username == st_username and password == st_password:\n",
    "        return \"Login successful\"\n",
    "    else:\n",
    "        return \"Login failed\"\n",
    "user_input = login_system(\"Talal\", \"1234\")\n",
    "print(user_input)\n",
    "    "
   ]
  }
 ],
 "metadata": {
  "kernelspec": {
   "display_name": "Python 3",
   "language": "python",
   "name": "python3"
  },
  "language_info": {
   "codemirror_mode": {
    "name": "ipython",
    "version": 3
   },
   "file_extension": ".py",
   "mimetype": "text/x-python",
   "name": "python",
   "nbconvert_exporter": "python",
   "pygments_lexer": "ipython3",
   "version": "3.14.0"
  }
 },
 "nbformat": 4,
 "nbformat_minor": 5
}
