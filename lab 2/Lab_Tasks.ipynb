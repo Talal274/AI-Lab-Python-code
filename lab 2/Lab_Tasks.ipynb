{
 "cells": [
  {
   "cell_type": "code",
   "execution_count": null,
   "id": "d99877b8",
   "metadata": {},
   "outputs": [
    {
     "name": "stdout",
     "output_type": "stream",
     "text": [
      "tHIS IS A test\n"
     ]
    }
   ],
   "source": []
  },
  {
   "cell_type": "code",
   "execution_count": null,
   "id": "df73ef83",
   "metadata": {},
   "outputs": [
    {
     "name": "stdout",
     "output_type": "stream",
     "text": [
      "Task 1 Result: 4\n"
     ]
    }
   ],
   "source": [
    "\"\"\"Count the number of strings where the string length is 2 or more and the first and last\n",
    "character are same from a given list of strings. Sample List: [&#39;abc&#39;, &#39;xyz&#39;, &#39;aba&#39;, &#39;1221&#39;,\n",
    "&#39;xyzzyx&#39;, &#39;aa&#39;, &#39;122’] Expected Result: 4\"\"\"\n",
    "\n",
    "\n",
    "strings = ['abc', 'xyz', 'aba', '1221', 'xyzzyx', 'aa', '122']\n",
    "count = 0\n",
    "\n",
    "for s in strings:\n",
    "    if len(s) >= 2 and s[0] == s[-1]:\n",
    "        count += 1\n",
    "\n",
    "print(f\"Task 1 Result: {count}\")\n",
    "\n"
   ]
  },
  {
   "cell_type": "code",
   "execution_count": null,
   "id": "73b7607d",
   "metadata": {},
   "outputs": [
    {
     "name": "stdout",
     "output_type": "stream",
     "text": [
      "Task 2 - Sum: 150, Product: 12000000\n"
     ]
    }
   ],
   "source": [
    "# Task 2: Sum and Product of numbers in tuple\n",
    "numbers = (1, 2, 4, 2, 6)\n",
    "\n",
    "\n",
    "total = 0\n",
    "numbers = [10, 20, 30, 40, 50]\n",
    "\n",
    "for num in numbers:\n",
    "    total += num\n",
    "\n",
    "\n",
    "\n",
    "product = 1\n",
    "for num in numbers:\n",
    "    product *= num\n",
    "\n",
    "print(f\"Task 2 - Sum: {total}, Product: {product}\")\n",
    "\n",
    "\n"
   ]
  },
  {
   "cell_type": "code",
   "execution_count": 12,
   "id": "c566971e",
   "metadata": {},
   "outputs": [
    {
     "name": "stdout",
     "output_type": "stream",
     "text": [
      "Task 3 - Largest number: 6\n"
     ]
    }
   ],
   "source": [
    "# Task 3: Find largest number in list\n",
    "numbers = [1, 2, 4, 2, 6]\n",
    "\n",
    "largest = numbers[0]\n",
    "for num in numbers:\n",
    "    if num > largest:\n",
    "        largest = num\n",
    "\n",
    "print(f\"Task 3 - Largest number: {largest}\")\n"
   ]
  },
  {
   "cell_type": "markdown",
   "id": "1d7ae447",
   "metadata": {},
   "source": []
  },
  {
   "cell_type": "code",
   "execution_count": 13,
   "id": "b3f3a9a0",
   "metadata": {},
   "outputs": [
    {
     "name": "stdout",
     "output_type": "stream",
     "text": [
      "Task 4 - Result: [('',), ('a', 'b'), ('a', 'b', 'c'), ('d',)]\n"
     ]
    }
   ],
   "source": [
    " #Task 4: Remove empty tuples from list\n",
    "L = [(), (), (\"\",), ('a', 'b'), (), ('a', 'b', 'c'), (), ('d',)]\n",
    "\n",
    "# Simple way: keep only non-empty tuples\n",
    "result = []\n",
    "for item in L:\n",
    "    if item:  # This will be False for empty tuples\n",
    "        result.append(item)\n",
    "\n",
    "print(f\"Task 4 - Result: {result}\")\n"
   ]
  },
  {
   "cell_type": "markdown",
   "id": "18527f62",
   "metadata": {},
   "source": []
  },
  {
   "cell_type": "markdown",
   "id": "ba493114",
   "metadata": {},
   "source": []
  },
  {
   "cell_type": "code",
   "execution_count": 14,
   "id": "44590152",
   "metadata": {},
   "outputs": [
    {
     "name": "stdout",
     "output_type": "stream",
     "text": [
      "Task 5 - Dictionary: {'1': 1, '2': 4, '3': 9, '4': 16}\n"
     ]
    }
   ],
   "source": [
    "# Task 5: Generate square dictionary\n",
    "n = 4\n",
    "square_dict = {}\n",
    "\n",
    "for i in range(1, n + 1):\n",
    "    square_dict[str(i)] = i * i\n",
    "\n",
    "print(f\"Task 5 - Dictionary: {square_dict}\")\n",
    "\n"
   ]
  },
  {
   "cell_type": "code",
   "execution_count": 18,
   "id": "ef1bd043",
   "metadata": {},
   "outputs": [
    {
     "name": "stdout",
     "output_type": "stream",
     "text": [
      "- Number in words: One Two Three Four\n"
     ]
    }
   ],
   "source": [
    "# Task 6: Convert number to words\n",
    "number = 1234\n",
    "\n",
    "\n",
    "digit_words = {\n",
    "    '0': 'Zero', '1': 'One', '2': 'Two', '3': 'Three',\n",
    "    '4': 'Four', '5': 'Five', '6': 'Six',\n",
    "    '7': 'Seven', '8': 'Eight', '9': 'Nine'\n",
    "}\n",
    "\n",
    "\n",
    "num_str = str(number)\n",
    "words = []\n",
    "for digit in num_str:\n",
    "    words.append(digit_words[digit])\n",
    "result = ' '.join(words)\n",
    "print(f\"- Number in words: {result}\")\n",
    "\n"
   ]
  }
 ],
 "metadata": {
  "kernelspec": {
   "display_name": "Python 3",
   "language": "python",
   "name": "python3"
  },
  "language_info": {
   "codemirror_mode": {
    "name": "ipython",
    "version": 3
   },
   "file_extension": ".py",
   "mimetype": "text/x-python",
   "name": "python",
   "nbconvert_exporter": "python",
   "pygments_lexer": "ipython3",
   "version": "3.14.0"
  }
 },
 "nbformat": 4,
 "nbformat_minor": 5
}
